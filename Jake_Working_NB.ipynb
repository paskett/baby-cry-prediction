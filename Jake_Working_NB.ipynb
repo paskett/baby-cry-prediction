{
 "cells": [
  {
   "cell_type": "code",
   "execution_count": 599,
   "metadata": {},
   "outputs": [],
   "source": [
    "from matplotlib import pyplot as plt\n",
    "\n",
    "from sklearn.model_selection import train_test_split as tts\n",
    "from sklearn.ensemble import RandomForestClassifier as RFC\n",
    "from sklearn.metrics import classification_report\n",
    "from sklearn.decomposition import PCA\n",
    "from sklearn.svm import SVC\n",
    "\n",
    "from scipy.signal import fftconvolve\n",
    "from scipy.fftpack import fft\n",
    "from scipy.linalg import dft\n",
    "from scipy.io import wavfile\n",
    "\n",
    "import pandas as pd\n",
    "import numpy as np\n",
    "import IPython\n",
    "import time\n",
    "import math\n",
    "import os\n",
    "\n",
    "import warnings"
   ]
  },
  {
   "cell_type": "code",
   "execution_count": 602,
   "metadata": {},
   "outputs": [],
   "source": [
    "warnings.filterwarnings('ignore')"
   ]
  },
  {
   "cell_type": "code",
   "execution_count": 265,
   "metadata": {},
   "outputs": [],
   "source": [
    "class SoundWave(object):\n",
    "    \"\"\"A class for working with digital audio signals.\"\"\"\n",
    "\n",
    "    # Problem 1.1\n",
    "    def __init__(self, rate, samples):\n",
    "        \"\"\"Set the SoundWave class attributes.\n",
    "\n",
    "        Parameters:\n",
    "            rate (int): The sample rate of the sound.\n",
    "            samples ((n,) ndarray): NumPy array of samples.\n",
    "        \"\"\"\n",
    "        self.rate = rate\n",
    "        self.samples = samples\n",
    "\n",
    "    # Problems 1.1 and 1.7\n",
    "    def plot(self, plot_transform = False):\n",
    "        \"\"\"Plot the graph of the sound wave (time versus amplitude).\"\"\"\n",
    "        \n",
    "        if plot_transform == False:\n",
    "            time = np.linspace(0, len(self.samples) / self.rate, len(self.samples))\n",
    "        \n",
    "            plt.plot(time, self.samples)\n",
    "            plt.ylim((-32768,32767))\n",
    "            plt.title(\"Waveform\")\n",
    "        \n",
    "            plt.show()\n",
    "        \n",
    "        if plot_transform == True:\n",
    "            transform = np.abs(fft(self.samples))\n",
    "            \n",
    "            time = np.linspace(0, len(self.samples) / self.rate, len(self.samples))\n",
    "            freq = np.arange(0, len(self.samples)) * self.rate / len(self.samples)\n",
    "            \n",
    "            ax2 = plt.subplot(121)\n",
    "            ax2.plot(time, self.samples)\n",
    "            ax2.set_ylim((-32768, 32767))\n",
    "            ax2.set_title(\"Waveform\")\n",
    "            \n",
    "            ax1 = plt.subplot(122)\n",
    "            ax1.plot(freq, transform)\n",
    "            ax1.set_xlim((0,self.rate / 2))\n",
    "            ax1.set_title(\"Frequencies\")\n",
    "                         \n",
    "            plt.show()\n",
    "\n",
    "    # Problem 1.2\n",
    "    def export(self, filename, force=False):\n",
    "        \"\"\"Generate a wav file from the sample rate and samples. \n",
    "        If the array of samples is not of type np.int16, scale it before exporting.\n",
    "\n",
    "        Parameters:\n",
    "            filename (str): The name of the wav file to export the sound to.\n",
    "        \"\"\"\n",
    "        if force==True or self.samples.dtype!='int16':\n",
    "            scaled_samples = np.int16((self.samples * 32767.0)/max(self.samples))\n",
    "            wavfile.write(filename, self.rate, scaled_samples)\n",
    "            \n",
    "        else:\n",
    "            wavfile.write(filename, self.rate, self.samples)\n",
    "    \n",
    "    # Problem 1.4\n",
    "    def __add__(self, other):\n",
    "        \"\"\"Combine the samples from two SoundWave objects.\n",
    "\n",
    "        Parameters:\n",
    "            other (SoundWave): An object containing the samples to add\n",
    "                to the samples contained in this object.\n",
    "        \n",
    "        Returns:\n",
    "            (SoundWave): A new SoundWave instance with the combined samples.\n",
    "\n",
    "        Raises:\n",
    "            ValueError: if the two sample arrays are not the same length.\n",
    "        \"\"\"\n",
    "        if len(self.samples)!=len(other.samples):\n",
    "            raise ValueError(\"Samples not the same length!\")\n",
    "            \n",
    "        new_sample = self.samples + other.samples\n",
    "        return SoundWave(self.rate, new_sample)\n",
    "        \n",
    "\n",
    "    # Problem 1.4\n",
    "    def __rshift__(self, other):\n",
    "        \"\"\"Concatentate the samples from two SoundWave objects.\n",
    "\n",
    "        Parameters:\n",
    "            other (SoundWave): An object containing the samples to concatenate\n",
    "                to the samples contained in this object.\n",
    "\n",
    "        Raises:\n",
    "            ValueError: if the two sample rates are not equal.\n",
    "        \"\"\"\n",
    "        if self.rate != other.rate:\n",
    "            raise ValueError(\"Samples not the same length!\")\n",
    "            \n",
    "        new_sample = np.concatenate((self.samples, other.samples))\n",
    "        \n",
    "        return SoundWave(self.rate, new_sample)\n",
    "    \n",
    "    # Problem 2.1\n",
    "    def __mul__(self, other):\n",
    "        \"\"\"Convolve the samples from two SoundWave objects using circular convolution.\n",
    "        \n",
    "        Parameters:\n",
    "            other (SoundWave): An object containing the samples to convolve\n",
    "                with the samples contained in this object.\n",
    "        \n",
    "        Returns:\n",
    "            (SoundWave): A new SoundWave instance with the convolved samples.\n",
    "\n",
    "        Raises:\n",
    "            ValueError: if the two sample rates are not equal.\n",
    "        \"\"\"\n",
    "        #Ensure rates are the same\n",
    "        if self.rate!=other.rate:\n",
    "            raise ValueError(\"Sample rates are different!\")\n",
    "        \n",
    "        #Pad smaller array with zeros\n",
    "        if len(self.samples)< len(other.samples):\n",
    "            padded_f = np.concatenate((self.samples,np.zeros(len(other.samples) - len(self.samples))))\n",
    "            padded_g = other.samples\n",
    "        elif len(self.samples)>len(other.samples):\n",
    "            padded_g = np.concatenate((other.samples,np.zeros(len(self.samples) - len(other.samples))))\n",
    "            padded_f = self.samples\n",
    "            \n",
    "        #Get transformed sample sets to multipy component wise\n",
    "        f_trans = fft(padded_f).real\n",
    "        g_trans = fft(padded_g).real\n",
    "        \n",
    "        hadamard = np.multiply(f_trans,g_trans)\n",
    "        \n",
    "        convolution = ifft(hadamard).real\n",
    "        \n",
    "        #Return new SoundWave with rate = self.rate and samples = our convoluted SoundWaves\n",
    "        return SoundWave(self.rate, convolution)\n",
    "\n",
    "\n",
    "    # Problem 2.2\n",
    "    def __pow__(self, other):\n",
    "        \"\"\"Convolve the samples from two SoundWave objects using linear convolution.\n",
    "        \n",
    "        Parameters:\n",
    "            other (SoundWave): An object containing the samples to convolve\n",
    "                with the samples contained in this object.\n",
    "        \n",
    "        Returns:\n",
    "            (SoundWave): A new SoundWave instance with the convolved samples.\n",
    "\n",
    "        Raises:\n",
    "            ValueError: if the two sample rates are not equal.\n",
    "        \"\"\"\n",
    "        #Get lengths to use\n",
    "        n = len(self.samples)\n",
    "        m = len(other.samples)\n",
    "        sample_length = n + m - 1\n",
    "  \n",
    "        #Find smallest power of 2 >= n + m - 1\n",
    "        while math.log(sample_length, 2) != int(math.log(sample_length, 2)):\n",
    "            sample_length += 1\n",
    "            \n",
    "        #Pad samples with zeros\n",
    "        padded_f = np.concatenate((self.samples,np.zeros(sample_length - n)))\n",
    "        padded_g = np.concatenate((other.samples,np.zeros(sample_length - m)))\n",
    "           \n",
    "        #Transform and get hadamard\n",
    "        hadamard = np.multiply(fft(padded_f).real, fft(padded_g).real)\n",
    "        \n",
    "        #Inverse fourier transform on the hadamard product\n",
    "        convolution = ifft(hadamard).real\n",
    "     \n",
    "        #Return new SoundWave with rate = self.rate and samples = our convoluted SoundWaves\n",
    "        return SoundWave(self.rate, convolution[:n+m-1])\n",
    "    \n",
    "    # Problem 2.4\n",
    "    def clean(self, low_freq, high_freq):\n",
    "        \"\"\"Remove a range of frequencies from the samples using the DFT. \n",
    "\n",
    "        Parameters:\n",
    "            low_freq (float): Lower bound of the frequency range to zero out.\n",
    "            high_freq (float): Higher boound of the frequency range to zero out.\n",
    "        \"\"\"\n",
    "        #Get frequency by  set and length of sample size\n",
    "        f = fft(self.samples)\n",
    "        n = len(self.samples)\n",
    "        \n",
    "        #Find k_low and k_high using k = nv/r\n",
    "        k_low = int(n*low_freq/self.rate)\n",
    "        k_high = int(n*high_freq/self.rate)\n",
    "        \n",
    "        #Replace both intervals of high frequency with zero\n",
    "        zeros = [0]*len(f)\n",
    "        f[k_low:k_high] = zeros[k_low:k_high]\n",
    "        f[n-k_high:n-k_low] = zeros[n-k_high:n-k_low]\n",
    "\n",
    "        return SoundWave(self.rate, ifft(f).real)"
   ]
  },
  {
   "cell_type": "code",
   "execution_count": 399,
   "metadata": {},
   "outputs": [],
   "source": [
    "def load_data(directory='raw_data'):\n",
    "    \"\"\"\n",
    "    Function to load sound data from the donateacry dataset.\n",
    "    Also normalizes each to have the same length.\n",
    "    \n",
    "    Parameters\n",
    "    ----------\n",
    "    directory : str\n",
    "                directory to search for data\n",
    "    scale     : bool\n",
    "                indicates whether to scale data or not\n",
    "    \n",
    "    Returns\n",
    "    -------\n",
    "    wavforms : ndarray\n",
    "               array of data points (each waveform)\n",
    "    labels : ndarray\n",
    "             array of labels corresponding to each waveform\n",
    "    \"\"\"\n",
    "    subdirs = os.listdir(directory)\n",
    "    wavforms = []\n",
    "    labels = []\n",
    "    for dirc in subdirs:\n",
    "        filenames = os.listdir(directory+'/'+dirc)\n",
    "        for filename in filenames:\n",
    "            # Get wavform from each file \n",
    "            wav = wavfile.read(directory+'/'+dirc+'/'+filename)[1]\n",
    "                \n",
    "            # Store wavform and appropriate label\n",
    "            wavforms.append(wav)\n",
    "            labels.append(dirc)\n",
    "    \n",
    "    # Find the minimum wavform length.\n",
    "    lens = set()\n",
    "    for d in wavforms:\n",
    "        lens.add(len(d))\n",
    "    min_len = min(lens)\n",
    "    \n",
    "    # Cut the end off each wavform so they're the same lengths.\n",
    "    for i,wav in enumerate(wavforms):\n",
    "        wavforms[i] = wav[:min_len]\n",
    "        \n",
    "    return np.array(wavforms), np.array(labels)\n",
    "\n",
    "def cut_data(data, labels, n):\n",
    "    \"\"\"\n",
    "    Takes data and cuts each sample into parts of specified length\n",
    "    \n",
    "    Parameters\n",
    "    ----------\n",
    "    data   : ndarray\n",
    "             array of waveform values of constant length\n",
    "    labels : ndarray\n",
    "             array of labels for each row of data\n",
    "    n.     : int\n",
    "             desired length of new samples\n",
    "             \n",
    "    Returns\n",
    "    -------\n",
    "    new_data   : ndarray\n",
    "                 array of new cut samples\n",
    "    new_labels : ndarray\n",
    "                 array of corresponding labels\n",
    "    \"\"\"\n",
    "    new_data = []\n",
    "    new_labels = []\n",
    "    # Get number of possible subsamples from current samples\n",
    "    subs = data.shape[1]//n\n",
    "\n",
    "    # Cut each sample\n",
    "    for i, wav in enumerate(data):\n",
    "        # Get as many new samples from old sample as possible\n",
    "        for x in range(subs):\n",
    "            # Extract subsamples of length n\n",
    "            new_data.append(wav[x*n:(x+1)*n])\n",
    "            # Store corresponding label\n",
    "            new_labels.append(labels[i])\n",
    "            \n",
    "    return np.array(new_data), np.array(new_labels)\n",
    "\n",
    "def duplicate_data(data, labels, alpha=0.3333):\n",
    "    \"\"\"\n",
    "    Duplicates data and adds random noise to the duplicates.\n",
    "    \n",
    "    Parameters\n",
    "    ----------\n",
    "    data (ndarray): array of waveform values.\n",
    "    labels (ndarray): array of labels for each row of data.\n",
    "    alpha (float): a parameter that changes how large the noise may be for \n",
    "            all waveforms relative to each of their sample values.\n",
    "        \n",
    "    Returns\n",
    "    -------\n",
    "    new_data (ndarray): all the same rows as data with noisy rows as well\n",
    "    new_labels (ndarray): the labels corresponding to the rows of new_data\n",
    "    \"\"\"\n",
    "    new_data = []\n",
    "    new_labels = []\n",
    "    for wav, label in zip(data, labels):\n",
    "        # Sample noise from the normal distribution.\n",
    "        noise = np.array([np.random.normal(scale=max(abs(x)*alpha, 0)) for x in wav])\n",
    "        \n",
    "        new_wav = wav.astype(np.int64) + noise.astype(np.int64)\n",
    "        \n",
    "        # Rescale the new_wav to make sure no parts go above 32767.\n",
    "        new_wav = np.array(32767*new_wav/np.max(np.abs(new_wav))).astype(np.int16)\n",
    "        \n",
    "        new_data.append(new_wav)\n",
    "        new_labels.append(label)\n",
    "    \n",
    "    # Concatenate the old and new data/labels.\n",
    "    new_data = np.vstack([data, np.array(new_data)])\n",
    "    new_labels = np.hstack([labels, np.array(new_labels)])\n",
    "    \n",
    "    return new_data, new_labels\n",
    "\n",
    "def get_fft(data, rate=8000, sample_rate=100):\n",
    "    \"\"\"\n",
    "    Function to transform wavelength data into frequency data using the FFT\n",
    "    \n",
    "    Parameters\n",
    "    ----------\n",
    "    data        : ndarray\n",
    "                  Array where each row is the wavelength samples of a single cry instance\n",
    "    sample_rate : int\n",
    "                  rate to subsample the frequencies at\n",
    "           \n",
    "    Returns\n",
    "    -------\n",
    "    freqs       : ndarray\n",
    "                  Array whose rows are the sampled frequencies\n",
    "    freq_domain : domain of frequency values\n",
    "    \"\"\"\n",
    "    freqs = []\n",
    "    freq_domain = np.arange(0, len(data[0])) * rate / len(data[0])\n",
    "    freq_domain = freq_domain[:len(freq_domain)//2]\n",
    "    \n",
    "    for i, wav in enumerate(data):\n",
    "        # Get frequencies using Fourier Transform\n",
    "        f = np.abs(fft(wav))[:len(freq_domain)]\n",
    "        # Get real part of frequencies, normalize, and sample at the sample rate\n",
    "        tmp = (np.real(f) / max(np.real(f)))[::sample_rate]\n",
    "        freqs.append(list(tmp))\n",
    "    \n",
    "    return np.array(freqs), freq_domain[::sample_rate]\n",
    "\n",
    "def data_to_df(data, labels, freqs):\n",
    "    \"\"\"\n",
    "    Function to convert numpy array of data to a pandas DataFrame\n",
    "    \n",
    "    Parameters\n",
    "    ----------\n",
    "    data  : ndarray\n",
    "            Array whose rows are of the form [[frequencies], 'label']\n",
    "    label : list or ndarray of shape (n,)\n",
    "            list of labels corresponding to each row of data\n",
    "    freqs : list or ndarray of shape (n,)\n",
    "            Frequency domain of the passed data (used to make column names)\n",
    "    \n",
    "    Returns\n",
    "    -------\n",
    "    df : pd.DataFrame\n",
    "         DataFrame where each row is a cry instance and each column is a frequency\n",
    "         with a final 'label' column\n",
    "    \"\"\"\n",
    "    # Data to df\n",
    "    df = pd.DataFrame(data,columns=freqs)\n",
    "    # Labels column\n",
    "    df['labels'] = labels\n",
    "    return df\n",
    "\n",
    "def labels_to_integers(labels):\n",
    "    \"\"\"\n",
    "    Convert the array of all labels (strings) to integer values.\n",
    "    \n",
    "    Parameters\n",
    "    ----------\n",
    "    labels (ndarray): array of strings containing the label name for\n",
    "        each data point\n",
    "    \n",
    "    Returns\n",
    "    -------\n",
    "    new_labels (ndarray): array where labels are replaced with ints\n",
    "    mapping (dict): a mapping from int -> string showing which integer\n",
    "        corresponds to which label\n",
    "    \"\"\"\n",
    "    new_labels = np.zeros(labels.shape)\n",
    "    mapping = {}\n",
    "    \n",
    "    for idx, lab in enumerate(np.unique(labels)):\n",
    "        new_labels[labels==lab] = idx\n",
    "        mapping[idx] = lab\n",
    "    \n",
    "    return new_labels, mapping"
   ]
  },
  {
   "cell_type": "markdown",
   "metadata": {},
   "source": [
    "## Data Preparation"
   ]
  },
  {
   "cell_type": "code",
   "execution_count": 295,
   "metadata": {},
   "outputs": [],
   "source": [
    "data, labels = load_data('raw_data')"
   ]
  },
  {
   "cell_type": "code",
   "execution_count": 604,
   "metadata": {},
   "outputs": [
    {
     "data": {
      "text/plain": [
       "{'belly_pain', 'burping', 'discomfort', 'hungry', 'tired'}"
      ]
     },
     "execution_count": 604,
     "metadata": {},
     "output_type": "execute_result"
    }
   ],
   "source": [
    "set(labels)"
   ]
  },
  {
   "cell_type": "code",
   "execution_count": 303,
   "metadata": {},
   "outputs": [
    {
     "name": "stdout",
     "output_type": "stream",
     "text": [
      "|# samples\t|avg len\t|avg min wvl\t|avg max wvl\t|abs min wvl\t|abs max wvl\t|label\n",
      "------------------------------------------------------------------------------------------------------\n",
      "|24\t\t|52160.00\t|-15448.79\t|15984.58\t|-32768.00\t|32767.00\t|tired\n",
      "|8\t\t|52160.00\t|-25814.88\t|26556.88\t|-32768.00\t|32767.00\t|burping\n",
      "|27\t\t|52160.00\t|-17641.41\t|18598.74\t|-32768.00\t|32767.00\t|discomfort\n",
      "|382\t\t|52160.00\t|-19543.69\t|20013.27\t|-32768.00\t|32767.00\t|hungry\n",
      "|16\t\t|52160.00\t|-15364.62\t|13974.56\t|-32768.00\t|32767.00\t|belly_pain\n"
     ]
    }
   ],
   "source": [
    "print('|{0}\\t|{1}\\t|{2}\\t|{3}\\t|{4}\\t|{5}\\t|{6}'.format('# samples', 'avg len', \n",
    "                                                       'avg min wvl', 'avg max wvl', \n",
    "                                                       'abs min wvl', 'abs max wvl', 'label'))\n",
    "print('------------------------------------------------------------------------------------------------------')\n",
    "for label in set(labels):\n",
    "    tmp = data[labels==label]\n",
    "    num_samples = len(tmp)\n",
    "    avg_len = sum(len(row) for row in tmp)/num_samples\n",
    "    avg_max_wvl = sum([max(row) for row in tmp])/num_samples\n",
    "    avg_min_wvl = sum([min(row) for row in tmp])/num_samples\n",
    "    abs_min_wvl = min([min(row) for row in tmp])\n",
    "    abs_max_wvl = max([max(row) for row in tmp])\n",
    "    print(u\"|{0}\\t\\t|{1:0.2f}\\t|{2:0.2f}\\t|{3:0.2f}\\t|{4:0.2f}\\t|{5:0.2f}\\t|{6}\".format(num_samples, avg_len, \n",
    "                                                                                  avg_min_wvl, avg_max_wvl, \n",
    "                                                                                  abs_min_wvl, abs_max_wvl,\n",
    "                                                                                  label))"
   ]
  },
  {
   "cell_type": "code",
   "execution_count": 361,
   "metadata": {},
   "outputs": [],
   "source": [
    "non_hungry_data = data[labels!='hungry']\n",
    "non_hungry_labels = labels[labels!='hungry']\n",
    "cut_data, cut_labels = cut_data(non_hungry_data,non_hungry_labels, 25000)\n",
    "dup_data, dup_labels = duplicate_data(cut_data,cut_labels)"
   ]
  },
  {
   "cell_type": "code",
   "execution_count": 370,
   "metadata": {},
   "outputs": [],
   "source": [
    "hungry_data = data[labels=='hungry'][:100]\n",
    "hungry_labels = ['hungry']*100\n",
    "hungry_data = hungry_data[:,:25000]"
   ]
  },
  {
   "cell_type": "code",
   "execution_count": 377,
   "metadata": {},
   "outputs": [],
   "source": [
    "final_data = np.vstack((hungry_data,dup_data))\n",
    "final_labels = np.hstack((hungry_labels, dup_labels))"
   ]
  },
  {
   "cell_type": "code",
   "execution_count": 400,
   "metadata": {},
   "outputs": [],
   "source": [
    "X, f_domain = get_fft(final_data)"
   ]
  },
  {
   "cell_type": "code",
   "execution_count": 401,
   "metadata": {},
   "outputs": [
    {
     "name": "stdout",
     "output_type": "stream",
     "text": [
      "|# samples\t|avg len\t|avg min freq\t|avg max freq\t|abs min freq\t|abs max freq\t|label\n",
      "------------------------------------------------------------------------------------------------------\n",
      "|96\t\t|125.00\t\t|0.00\t\t|0.52\t\t|0.00\t\t|0.98\t\t|tired\n",
      "|32\t\t|125.00\t\t|0.00\t\t|0.60\t\t|0.00\t\t|0.84\t\t|burping\n",
      "|108\t\t|125.00\t\t|0.00\t\t|0.59\t\t|0.00\t\t|1.00\t\t|discomfort\n",
      "|64\t\t|125.00\t\t|0.00\t\t|0.55\t\t|0.00\t\t|0.98\t\t|belly_pain\n",
      "|100\t\t|125.00\t\t|0.00\t\t|0.58\t\t|0.00\t\t|1.00\t\t|hungry\n"
     ]
    }
   ],
   "source": [
    "print('|{0}\\t|{1}\\t|{2}\\t|{3}\\t|{4}\\t|{5}\\t|{6}'.format('# samples', 'avg len', \n",
    "                                                       'avg min freq', 'avg max freq', \n",
    "                                                       'abs min freq', 'abs max freq', 'label'))\n",
    "print('------------------------------------------------------------------------------------------------------')\n",
    "for label in set(final_labels):\n",
    "    tmp = X[final_labels==label]\n",
    "    num_samples = len(tmp)\n",
    "    avg_len = sum(len(row) for row in tmp)/num_samples\n",
    "    avg_max_wvl = sum([max(row) for row in tmp])/num_samples\n",
    "    avg_min_wvl = sum([min(row) for row in tmp])/num_samples\n",
    "    abs_min_wvl = min([min(row) for row in tmp])\n",
    "    abs_max_wvl = max([max(row) for row in tmp])\n",
    "    print(u\"|{0}\\t\\t|{1:0.2f}\\t\\t|{2:0.2f}\\t\\t|{3:0.2f}\\t\\t|{4:0.2f}\\t\\t|{5:0.2f}\\t\\t|{6}\".format(num_samples, avg_len, \n",
    "                                                                                  avg_min_wvl, avg_max_wvl, \n",
    "                                                                                  abs_min_wvl, abs_max_wvl,\n",
    "                                                                                  label))"
   ]
  },
  {
   "cell_type": "markdown",
   "metadata": {},
   "source": [
    "## PCA"
   ]
  },
  {
   "cell_type": "code",
   "execution_count": 403,
   "metadata": {},
   "outputs": [
    {
     "name": "stdout",
     "output_type": "stream",
     "text": [
      "% of Explained Variance:\n",
      "[2.07690666e-01 7.85561519e-02 5.27135852e-02 4.16323975e-02\n",
      " 3.94818525e-02 3.40229837e-02 3.13981105e-02 2.40160054e-02\n",
      " 2.31066469e-02 2.19516898e-02 2.07168951e-02 1.95001679e-02\n",
      " 1.74812058e-02 1.67863841e-02 1.63708305e-02 1.47860324e-02\n",
      " 1.38198501e-02 1.35588569e-02 1.23111510e-02 1.19931357e-02\n",
      " 1.13249057e-02 1.11035723e-02 9.97844586e-03 9.75250137e-03\n",
      " 9.34145057e-03 8.92824700e-03 8.62666286e-03 8.29423764e-03\n",
      " 7.93403376e-03 7.75542643e-03 7.36134025e-03 7.23794722e-03\n",
      " 6.96242491e-03 6.37044938e-03 6.30713650e-03 6.12254437e-03\n",
      " 5.92935022e-03 5.68017111e-03 5.46616242e-03 5.20856705e-03\n",
      " 5.02847836e-03 4.88347963e-03 4.62576925e-03 4.52926030e-03\n",
      " 4.45461238e-03 4.37706799e-03 4.20145252e-03 4.03884081e-03\n",
      " 3.90467341e-03 3.75600447e-03 3.72179310e-03 3.45160778e-03\n",
      " 3.43338274e-03 3.33364652e-03 3.14149285e-03 3.04402235e-03\n",
      " 3.01737911e-03 2.83582853e-03 2.78286534e-03 2.72173426e-03\n",
      " 2.64997404e-03 2.57417351e-03 2.45082559e-03 2.34174739e-03\n",
      " 2.25719325e-03 2.13115100e-03 2.06822855e-03 2.01550739e-03\n",
      " 1.83784325e-03 1.81925997e-03 1.72856692e-03 1.70366849e-03\n",
      " 1.63449485e-03 1.59142092e-03 1.53625179e-03 1.36403004e-03\n",
      " 1.36006699e-03 1.31341433e-03 1.26130755e-03 1.22812542e-03\n",
      " 1.16439996e-03 1.13063244e-03 1.07967627e-03 1.02695587e-03\n",
      " 1.00184701e-03 9.48008090e-04 9.31310357e-04 8.73958056e-04\n",
      " 8.36797727e-04 8.07889904e-04 6.98623311e-04 6.56664750e-04\n",
      " 6.42533064e-04 5.75187218e-04 5.58085803e-04 5.21961257e-04\n",
      " 5.09159947e-04 4.66274359e-04 4.46424316e-04 4.24325440e-04\n",
      " 4.03989539e-04 3.83633096e-04 3.47524078e-04 3.36170069e-04\n",
      " 3.19751750e-04 2.86444371e-04 2.75984190e-04 2.49782472e-04\n",
      " 2.45646217e-04 2.30734716e-04 2.07422511e-04 1.90726223e-04\n",
      " 1.72484955e-04 1.69218859e-04 1.51894229e-04 1.43279366e-04\n",
      " 1.34873971e-04 1.21918659e-04 1.14631505e-04 9.85102203e-05\n",
      " 9.28685511e-05 8.82944761e-05 8.22928466e-05 6.21423886e-05\n",
      " 5.82470866e-05]\n"
     ]
    },
    {
     "data": {
      "image/png": "[encoded data removed]",
      "text/plain": [
       "<Figure size 432x288 with 1 Axes>"
      ]
     },
     "metadata": {
      "needs_background": "light"
     },
     "output_type": "display_data"
    },
    {
     "data": {
      "image/png": "[encoded data removed]",
      "text/plain": [
       "<Figure size 432x288 with 1 Axes>"
      ]
     },
     "metadata": {
      "needs_background": "light"
     },
     "output_type": "display_data"
    }
   ],
   "source": [
    "p = PCA()\n",
    "p.fit_transform(X)\n",
    "var = p.explained_variance_ratio_\n",
    "print('% of Explained Variance:')\n",
    "print(var)\n",
    "plt.plot(np.cumsum(var), '.-')\n",
    "plt.title('Cumulative Variance Explained')\n",
    "plt.xlabel('Number of Principal Components')\n",
    "plt.ylabel('% Explained Variance')\n",
    "plt.show()\n",
    "\n",
    "plt.plot(var, '.-')\n",
    "plt.title('Scree Plot')\n",
    "plt.xlabel('Number of Principal Components')\n",
    "plt.ylabel('% Explained Variance')\n",
    "plt.show()"
   ]
  },
  {
   "cell_type": "code",
   "execution_count": 475,
   "metadata": {},
   "outputs": [
    {
     "name": "stdout",
     "output_type": "stream",
     "text": [
      "% of Explained Variance:\n",
      "[5.39766628e-02 3.27607647e-02 3.05775060e-02 2.78276877e-02\n",
      " 2.23040192e-02 1.90267752e-02 1.75525026e-02 1.72688143e-02\n",
      " 1.70184779e-02 1.66914689e-02 1.63763946e-02 1.61620104e-02\n",
      " 1.52923127e-02 1.47933539e-02 1.45867743e-02 1.41849694e-02\n",
      " 1.41054158e-02 1.40697209e-02 1.34612174e-02 1.28449798e-02\n",
      " 1.23521988e-02 1.21405682e-02 1.21025250e-02 1.17030626e-02\n",
      " 1.08351086e-02 1.05419507e-02 1.01874740e-02 9.19711867e-03\n",
      " 8.82527951e-03 8.58273766e-03 8.41707422e-03 8.31355472e-03\n",
      " 7.55382733e-03 7.35052364e-03 7.20211024e-03 7.00750601e-03\n",
      " 6.86447386e-03 6.57659105e-03 6.49211131e-03 6.30682762e-03\n",
      " 6.14781532e-03 6.07855342e-03 6.02118403e-03 5.97912061e-03\n",
      " 5.91954941e-03 5.65195995e-03 5.61933107e-03 5.56460602e-03\n",
      " 5.46536975e-03 5.25393523e-03 5.11031596e-03 4.95582182e-03\n",
      " 4.91539570e-03 4.88908901e-03 4.88199191e-03 4.83525778e-03\n",
      " 4.70997061e-03 4.68516427e-03 4.66174156e-03 4.56494963e-03\n",
      " 4.53577771e-03 4.44286193e-03 4.35029806e-03 4.32879767e-03\n",
      " 4.30347300e-03 4.23581576e-03 4.19136454e-03 4.14977575e-03\n",
      " 4.13731570e-03 4.11340716e-03 4.04631028e-03 4.00036309e-03\n",
      " 3.99379761e-03 3.92830296e-03 3.89085932e-03 3.82621018e-03\n",
      " 3.77739552e-03 3.71372392e-03 3.68901605e-03 3.65618193e-03\n",
      " 3.63224638e-03 3.56096386e-03 3.51818866e-03 3.44476485e-03\n",
      " 3.41918627e-03 3.37126411e-03 3.34014292e-03 3.28936469e-03\n",
      " 3.24957045e-03 3.17829064e-03 3.14456707e-03 3.12801560e-03\n",
      " 3.10976146e-03 3.09095169e-03 3.05923708e-03 3.01243635e-03\n",
      " 2.98494412e-03 2.94605931e-03 2.92300197e-03 2.88032173e-03\n",
      " 2.85800045e-03 2.83992829e-03 2.81838637e-03 2.78141072e-03\n",
      " 2.74419215e-03 2.70953490e-03 2.64685565e-03 2.63085494e-03\n",
      " 2.59941769e-03 2.53299117e-03 2.45652453e-03 2.39593190e-03\n",
      " 2.36854026e-03 2.35124152e-03 2.33273342e-03 2.26974168e-03\n",
      " 2.24689695e-03 2.21323568e-03 2.19853509e-03 2.15932276e-03\n",
      " 2.10194542e-03 2.09963623e-03 2.08138216e-03 2.07910882e-03\n",
      " 2.04968448e-03 1.99882288e-03 1.97545314e-03 1.94451742e-03\n",
      " 1.89980379e-03 1.85553546e-03 1.81120765e-03 1.78726040e-03\n",
      " 1.76932314e-03 1.74684971e-03 1.73661943e-03 1.70886708e-03\n",
      " 1.68836254e-03 1.67828078e-03 1.64700937e-03 1.61898735e-03\n",
      " 1.60471379e-03 1.58650946e-03 1.55447310e-03 1.54464987e-03\n",
      " 1.52971451e-03 1.52119599e-03 1.50676964e-03 1.50341470e-03\n",
      " 1.49566904e-03 1.46947890e-03 1.45745608e-03 1.42588865e-03\n",
      " 1.40984900e-03 1.39855599e-03 1.37007030e-03 1.34641235e-03\n",
      " 1.30736009e-03 1.28465063e-03 1.28114367e-03 1.26049760e-03\n",
      " 1.24265948e-03 1.22676295e-03 1.19095207e-03 1.18664238e-03\n",
      " 1.14622080e-03 1.11016407e-03 1.08256749e-03 1.05251903e-03\n",
      " 1.03297056e-03 1.02144824e-03 1.01958973e-03 1.00437773e-03\n",
      " 9.87675987e-04 9.83282071e-04 9.61151473e-04 9.27432430e-04\n",
      " 8.98838711e-04 8.59286943e-04 8.23508619e-04 7.99107692e-04\n",
      " 7.94258247e-04 7.85267697e-04 7.82435079e-04 7.69123058e-04\n",
      " 7.62233873e-04 7.23069223e-04 6.78037927e-04 6.56650990e-04\n",
      " 6.28486623e-04 6.20128531e-04 6.04527435e-04 5.93250051e-04\n",
      " 5.47864251e-04 5.43841735e-04 5.36017050e-04 5.21085587e-04\n",
      " 5.03058616e-04 4.86419713e-04 4.45945707e-04 4.35683607e-04\n",
      " 4.13531397e-04 4.08900657e-04 4.01533130e-04 3.89487652e-04\n",
      " 3.73046539e-04 3.65684728e-04 3.65390169e-04 3.62158301e-04\n",
      " 3.46633813e-04 3.43509577e-04 3.38614341e-04 3.28830937e-04\n",
      " 3.24588957e-04 3.21886141e-04 3.17611941e-04 3.13254854e-04\n",
      " 3.11568912e-04 3.10047199e-04 3.05731814e-04 3.02791747e-04\n",
      " 3.01425047e-04 2.97023036e-04 2.94788175e-04 2.93141084e-04\n",
      " 2.88331517e-04 2.86206866e-04 2.82223314e-04 2.79720133e-04\n",
      " 2.79017060e-04 2.74722984e-04 2.68675269e-04 2.66763087e-04\n",
      " 2.65501891e-04 2.60205540e-04 2.51517012e-04 2.48813601e-04\n",
      " 2.41861601e-04 2.35092254e-04 2.24548518e-04 2.17985535e-04\n",
      " 2.03750670e-04 1.89503347e-04 1.87262316e-04 1.83975443e-04\n",
      " 1.70738968e-04 1.62466050e-04 1.59906379e-04 1.58836581e-04\n",
      " 1.54605235e-04 1.53454513e-04 1.48294749e-04 1.42415261e-04\n",
      " 1.40054074e-04 1.38519525e-04 1.36777570e-04 1.36437989e-04\n",
      " 1.35092022e-04 1.33384000e-04 1.27079689e-04 1.23528805e-04\n",
      " 1.20163418e-04 1.12622911e-04 1.06563138e-04 1.06186156e-04\n",
      " 1.02432046e-04 1.01294786e-04 1.00975929e-04 9.99733780e-05\n",
      " 9.80637951e-05 9.70729754e-05 9.42474424e-05 9.20958061e-05\n",
      " 8.98503396e-05 8.84506286e-05 8.16197957e-05 7.88087371e-05\n",
      " 7.63595626e-05 7.49898431e-05 7.36205554e-05 7.20401205e-05\n",
      " 7.04562169e-05 6.90580143e-05 6.75907294e-05 6.57830478e-05\n",
      " 6.31635411e-05 6.15380340e-05 6.08250173e-05 5.93374153e-05\n",
      " 5.78277160e-05 5.70316215e-05 5.68271665e-05 5.53244401e-05\n",
      " 5.37056253e-05 5.22361486e-05 5.17292082e-05 4.86124735e-05\n",
      " 4.70960963e-05 4.64558054e-05 4.57825456e-05 4.40709893e-05\n",
      " 4.30410546e-05 4.28145129e-05 4.25661876e-05 4.12757931e-05\n",
      " 3.88590913e-05 3.85714922e-05 3.81616208e-05 3.81175975e-05\n",
      " 3.66613260e-05 3.61435534e-05 3.52127751e-05 3.47869857e-05\n",
      " 3.33310743e-05 3.28693418e-05 3.26106788e-05 3.17967696e-05\n",
      " 3.10174938e-05 3.08149297e-05 3.01598138e-05 2.80488676e-05\n",
      " 2.69275961e-05 2.64444792e-05 2.58914379e-05 2.51816338e-05\n",
      " 2.48973443e-05 2.38029929e-05 2.36716652e-05 2.15207838e-05\n",
      " 1.99994861e-05 1.96494473e-05 1.92984171e-05 1.87850597e-05\n",
      " 1.83232762e-05 1.77002175e-05 1.69656425e-05 1.65294989e-05\n",
      " 1.63287467e-05 1.59236901e-05 1.54380176e-05 1.53424665e-05\n",
      " 1.45873438e-05 1.37426757e-05 1.35037803e-05 1.30233461e-05\n",
      " 1.25562926e-05 1.18260581e-05 1.06941074e-05 1.04937917e-05\n",
      " 1.01715251e-05 9.97315502e-06 9.50699985e-06 9.01889393e-06\n",
      " 8.58278777e-06 8.14041598e-06 7.89640196e-06 7.48106410e-06\n",
      " 7.29265908e-06 6.92173449e-06 6.56169838e-06 5.98083335e-06\n",
      " 5.91262139e-06 5.54900641e-06 5.11780448e-06 4.56493738e-06\n",
      " 4.38400992e-06 4.28717015e-06 3.91302568e-06 3.85519298e-06\n",
      " 3.76924297e-06 3.45872109e-06 2.91202274e-06 2.86576613e-06\n",
      " 2.78518844e-06 2.70452821e-06 2.61300151e-06 2.43432241e-06\n",
      " 2.23415553e-06 2.10444241e-06 1.89167318e-06 1.67097486e-06\n",
      " 1.53368632e-06 1.37122083e-06 1.31002306e-06 1.21280705e-06\n",
      " 1.05861267e-06 8.96752156e-07 7.85244992e-07 6.69102357e-07\n",
      " 5.79296724e-07 4.71651805e-07 4.18214050e-07 3.21093157e-07\n",
      " 2.13639669e-07 1.48643236e-07 1.15919755e-07 8.45961606e-08\n",
      " 5.85959639e-08 5.47812598e-08 4.41346433e-08 1.06450198e-32]\n"
     ]
    },
    {
     "data": {
      "image/png": "[encoded data removed]",
      "text/plain": [
       "<Figure size 432x288 with 1 Axes>"
      ]
     },
     "metadata": {
      "needs_background": "light"
     },
     "output_type": "display_data"
    },
    {
     "data": {
      "image/png": "[encoded data removed]",
      "text/plain": [
       "<Figure size 432x288 with 1 Axes>"
      ]
     },
     "metadata": {
      "needs_background": "light"
     },
     "output_type": "display_data"
    }
   ],
   "source": [
    "p = PCA()\n",
    "p.fit_transform(final_data)\n",
    "var = p.explained_variance_ratio_\n",
    "print('% of Explained Variance:')\n",
    "print(var)\n",
    "plt.plot(np.cumsum(var), '.-')\n",
    "plt.title('Cumulative Variance Explained')\n",
    "plt.xlabel('Number of Principal Components')\n",
    "plt.ylabel('% Explained Variance')\n",
    "plt.show()\n",
    "\n",
    "plt.plot(var, '.-')\n",
    "plt.title('Scree Plot')\n",
    "plt.xlabel('Number of Principal Components')\n",
    "plt.ylabel('% Explained Variance')\n",
    "plt.show()"
   ]
  },
  {
   "cell_type": "code",
   "execution_count": 432,
   "metadata": {},
   "outputs": [
    {
     "name": "stdout",
     "output_type": "stream",
     "text": [
      "# of components that explain 90% of the variance: 48\n"
     ]
    }
   ],
   "source": [
    "# Find how many principal components explain 90% of variance\n",
    "s = 0\n",
    "count = 0\n",
    "for item in var:\n",
    "    s += item\n",
    "    count+=1\n",
    "    if s >= .9:\n",
    "        break\n",
    "print('Fourier data')\n",
    "print('# of components that explain 90% of the variance:',count)"
   ]
  },
  {
   "cell_type": "code",
   "execution_count": 477,
   "metadata": {},
   "outputs": [
    {
     "name": "stdout",
     "output_type": "stream",
     "text": [
      "Raw data\n",
      "# of components that explain 90% of the variance: 130\n"
     ]
    }
   ],
   "source": [
    "# Find how many principal components explain 90% of variance\n",
    "s = 0\n",
    "count = 0\n",
    "for item in var:\n",
    "    s += item\n",
    "    count+=1\n",
    "    if s >= .9:\n",
    "        break\n",
    "print('Raw data')\n",
    "print('# of components that explain 90% of the variance:',count)"
   ]
  },
  {
   "cell_type": "code",
   "execution_count": 478,
   "metadata": {},
   "outputs": [],
   "source": [
    "# Get first 48 principal components\n",
    "fp = PCA(48)\n",
    "fcomps = fp.fit_transform(X)"
   ]
  },
  {
   "cell_type": "code",
   "execution_count": 479,
   "metadata": {},
   "outputs": [],
   "source": [
    "p = PCA(130)\n",
    "comps = p.fit_transform(final_data)"
   ]
  },
  {
   "cell_type": "markdown",
   "metadata": {},
   "source": [
    "## Train-Test-Split"
   ]
  },
  {
   "cell_type": "markdown",
   "metadata": {},
   "source": [
    "### Fourier"
   ]
  },
  {
   "cell_type": "code",
   "execution_count": 575,
   "metadata": {},
   "outputs": [],
   "source": [
    "int_labels = labels_to_integers(final_labels)[0]\n",
    "fcX_train, fcX_test, fcy_train, fcy_test = tts(fcomps, int_labels)\n",
    "fX_train, fX_test, fy_train, fy_test = tts(X, int_labels)"
   ]
  },
  {
   "cell_type": "markdown",
   "metadata": {},
   "source": [
    "### Raw data"
   ]
  },
  {
   "cell_type": "code",
   "execution_count": 574,
   "metadata": {},
   "outputs": [],
   "source": [
    "int_labels = labels_to_integers(final_labels)[0]\n",
    "cX_train, cX_test, cy_train, cy_test = tts(comps, int_labels)\n",
    "X_train, X_test, y_train, y_test = tts(final_data, int_labels)"
   ]
  },
  {
   "cell_type": "markdown",
   "metadata": {},
   "source": [
    "## Support Vector Machine"
   ]
  },
  {
   "cell_type": "code",
   "execution_count": 498,
   "metadata": {},
   "outputs": [
    {
     "name": "stderr",
     "output_type": "stream",
     "text": [
      "/Users/jakecallahan/anaconda3/lib/python3.6/site-packages/sklearn/svm/base.py:196: FutureWarning: The default value of gamma will change from 'auto' to 'scale' in version 0.22 to account better for unscaled features. Set gamma explicitly to 'auto' or 'scale' to avoid this warning.\n",
      "  \"avoid this warning.\", FutureWarning)\n"
     ]
    },
    {
     "data": {
      "text/plain": [
       "array([2., 2., 2., 2., 2., 2., 2., 2., 2., 2., 2., 2., 2., 2., 2., 2., 2.,\n",
       "       2., 2., 2., 2., 2., 2., 2., 2., 2., 2., 2., 2., 2., 2., 2., 2., 2.,\n",
       "       2., 2., 2., 2., 2., 2., 2., 2., 2., 2., 2., 2., 2., 2., 2., 2., 2.,\n",
       "       2., 2., 2., 2., 2., 2., 2., 2., 2., 2., 2., 2., 2., 2., 2., 2., 2.,\n",
       "       2., 2., 2., 2., 2., 2., 2., 2., 2., 2., 2., 2., 2., 2., 2., 2., 2.,\n",
       "       2., 2., 2., 2., 2., 2., 2., 2., 2., 2., 2., 2., 2., 2., 2.])"
      ]
     },
     "execution_count": 498,
     "metadata": {},
     "output_type": "execute_result"
    }
   ],
   "source": [
    "clf = SVC()\n",
    "clf.fit(fcX_train, fcy_train)\n",
    "preds = clf.predict(fcX_test)\n",
    "preds"
   ]
  },
  {
   "cell_type": "code",
   "execution_count": 499,
   "metadata": {},
   "outputs": [
    {
     "name": "stderr",
     "output_type": "stream",
     "text": [
      "/Users/jakecallahan/anaconda3/lib/python3.6/site-packages/sklearn/svm/base.py:196: FutureWarning: The default value of gamma will change from 'auto' to 'scale' in version 0.22 to account better for unscaled features. Set gamma explicitly to 'auto' or 'scale' to avoid this warning.\n",
      "  \"avoid this warning.\", FutureWarning)\n"
     ]
    },
    {
     "data": {
      "text/plain": [
       "array([2., 2., 2., 2., 2., 2., 2., 2., 2., 2., 2., 2., 2., 2., 2., 2., 2.,\n",
       "       2., 2., 2., 2., 2., 2., 2., 2., 2., 2., 2., 2., 2., 2., 2., 2., 2.,\n",
       "       2., 2., 2., 2., 2., 2., 2., 2., 2., 2., 2., 2., 2., 2., 2., 2., 2.,\n",
       "       2., 2., 2., 2., 2., 2., 2., 2., 2., 2., 2., 2., 2., 2., 2., 2., 2.,\n",
       "       2., 2., 2., 2., 2., 2., 2., 2., 2., 2., 2., 2., 2., 2., 2., 2., 2.,\n",
       "       2., 2., 2., 2., 2., 2., 2., 2., 2., 2., 2., 2., 2., 2., 2.])"
      ]
     },
     "execution_count": 499,
     "metadata": {},
     "output_type": "execute_result"
    }
   ],
   "source": [
    "clf = SVC()\n",
    "clf.fit(cX_train, cy_train)\n",
    "preds = clf.predict(cX_test)\n",
    "preds"
   ]
  },
  {
   "cell_type": "code",
   "execution_count": 500,
   "metadata": {},
   "outputs": [
    {
     "name": "stderr",
     "output_type": "stream",
     "text": [
      "/Users/jakecallahan/anaconda3/lib/python3.6/site-packages/sklearn/svm/base.py:196: FutureWarning: The default value of gamma will change from 'auto' to 'scale' in version 0.22 to account better for unscaled features. Set gamma explicitly to 'auto' or 'scale' to avoid this warning.\n",
      "  \"avoid this warning.\", FutureWarning)\n"
     ]
    },
    {
     "data": {
      "text/plain": [
       "array([2., 2., 2., 2., 2., 2., 2., 2., 2., 2., 2., 2., 2., 2., 2., 2., 2.,\n",
       "       2., 2., 2., 2., 2., 2., 2., 2., 2., 2., 2., 2., 2., 2., 2., 2., 2.,\n",
       "       2., 2., 2., 2., 2., 2., 2., 2., 2., 2., 2., 2., 2., 2., 2., 2., 2.,\n",
       "       2., 2., 2., 2., 2., 2., 2., 2., 2., 2., 2., 2., 2., 2., 2., 2., 2.,\n",
       "       2., 2., 2., 2., 2., 2., 2., 2., 2., 2., 2., 2., 2., 2., 2., 2., 2.,\n",
       "       2., 2., 2., 2., 2., 2., 2., 2., 2., 2., 2., 2., 2., 2., 2.])"
      ]
     },
     "execution_count": 500,
     "metadata": {},
     "output_type": "execute_result"
    }
   ],
   "source": [
    "clf = SVC()\n",
    "clf.fit(fX_train, fy_train)\n",
    "preds = clf.predict(fX_test)\n",
    "preds"
   ]
  },
  {
   "cell_type": "code",
   "execution_count": 465,
   "metadata": {},
   "outputs": [
    {
     "name": "stderr",
     "output_type": "stream",
     "text": [
      "/Users/jakecallahan/anaconda3/lib/python3.6/site-packages/ipykernel_launcher.py:1: FutureWarning: elementwise comparison failed; returning scalar instead, but in the future will perform elementwise comparison\n",
      "  \"\"\"Entry point for launching an IPython kernel.\n"
     ]
    },
    {
     "data": {
      "text/plain": [
       "0"
      ]
     },
     "execution_count": 465,
     "metadata": {},
     "output_type": "execute_result"
    }
   ],
   "source": [
    "len(y_train[y_train=='p'])"
   ]
  },
  {
   "cell_type": "markdown",
   "metadata": {},
   "source": [
    "## Random Forest"
   ]
  },
  {
   "cell_type": "code",
   "execution_count": 598,
   "metadata": {},
   "outputs": [
    {
     "name": "stdout",
     "output_type": "stream",
     "text": [
      "              precision    recall  f1-score   support\n",
      "\n",
      "         0.0       0.71      0.52      0.60        23\n",
      "         1.0       0.20      0.50      0.29         4\n",
      "         2.0       0.55      0.34      0.42        35\n",
      "         3.0       0.24      0.58      0.34        12\n",
      "         4.0       0.55      0.46      0.50        26\n",
      "\n",
      "   micro avg       0.45      0.45      0.45       100\n",
      "   macro avg       0.45      0.48      0.43       100\n",
      "weighted avg       0.53      0.45      0.47       100\n",
      "\n"
     ]
    },
    {
     "name": "stderr",
     "output_type": "stream",
     "text": [
      "/Users/jakecallahan/anaconda3/lib/python3.6/site-packages/sklearn/ensemble/forest.py:246: FutureWarning: The default value of n_estimators will change from 10 in version 0.20 to 100 in 0.22.\n",
      "  \"10 in version 0.20 to 100 in 0.22.\", FutureWarning)\n"
     ]
    }
   ],
   "source": [
    "clf = RFC()\n",
    "clf.fit(cX_train,cy_train)\n",
    "preds = clf.predict(cX_test)\n",
    "print(classification_report(preds,cy_test))"
   ]
  },
  {
   "cell_type": "code",
   "execution_count": 605,
   "metadata": {},
   "outputs": [
    {
     "data": {
      "text/plain": [
       "(400, 25000)"
      ]
     },
     "execution_count": 605,
     "metadata": {},
     "output_type": "execute_result"
    }
   ],
   "source": [
    "final_data.shape"
   ]
  },
  {
   "cell_type": "code",
   "execution_count": null,
   "metadata": {},
   "outputs": [],
   "source": []
  }
 ],
 "metadata": {
  "kernelspec": {
   "display_name": "Python 3",
   "language": "python",
   "name": "python3"
  },
  "language_info": {
   "codemirror_mode": {
    "name": "ipython",
    "version": 3
   },
   "file_extension": ".py",
   "mimetype": "text/x-python",
   "name": "python",
   "nbconvert_exporter": "python",
   "pygments_lexer": "ipython3",
   "version": "3.6.8"
  }
 },
 "nbformat": 4,
 "nbformat_minor": 2
}
